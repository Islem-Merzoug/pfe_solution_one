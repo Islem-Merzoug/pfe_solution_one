{
 "cells": [
  {
   "cell_type": "code",
   "execution_count": 1,
   "metadata": {
    "colab": {
     "base_uri": "https://localhost:8080/"
    },
    "execution": {
     "iopub.execute_input": "2021-07-08T18:33:56.769515Z",
     "iopub.status.busy": "2021-07-08T18:33:56.750125Z",
     "iopub.status.idle": "2021-07-08T18:33:59.973467Z",
     "shell.execute_reply": "2021-07-08T18:33:59.975968Z"
    },
    "id": "x7Szo4TqxaQ7",
    "outputId": "66636434-ced3-45de-a48c-f92a91eba015"
   },
   "outputs": [
    {
     "name": "stderr",
     "output_type": "stream",
     "text": [
      "2021-07-08 18:33:57.144512: W tensorflow/stream_executor/platform/default/dso_loader.cc:59] Could not load dynamic library 'libcudart.so.10.1'; dlerror: libcudart.so.10.1: cannot open shared object file: No such file or directory\n",
      "2021-07-08 18:33:57.144548: I tensorflow/stream_executor/cuda/cudart_stub.cc:29] Ignore above cudart dlerror if you do not have a GPU set up on your machine.\n"
     ]
    },
    {
     "name": "stdout",
     "output_type": "stream",
     "text": [
      "1 / 3\n",
      "2 / 3\n",
      "3 / 3\n",
      "dimensions:  (3, 384, 384, 1)  ;  Type des images:  <class 'numpy.ndarray'>\n"
     ]
    },
    {
     "name": "stderr",
     "output_type": "stream",
     "text": [
      "2021-07-08 18:33:58.657627: W tensorflow/stream_executor/platform/default/dso_loader.cc:59] Could not load dynamic library 'libcuda.so.1'; dlerror: libcuda.so.1: cannot open shared object file: No such file or directory\n",
      "2021-07-08 18:33:58.657680: W tensorflow/stream_executor/cuda/cuda_driver.cc:312] failed call to cuInit: UNKNOWN ERROR (303)\n",
      "2021-07-08 18:33:58.657712: I tensorflow/stream_executor/cuda/cuda_diagnostics.cc:156] kernel driver does not appear to be running on this host (5b754bfe4e4d): /proc/driver/nvidia/version does not exist\n",
      "2021-07-08 18:33:58.658145: I tensorflow/core/platform/cpu_feature_guard.cc:142] This TensorFlow binary is optimized with oneAPI Deep Neural Network Library (oneDNN)to use the following CPU instructions in performance-critical operations:  AVX2 FMA\n",
      "To enable them in other operations, rebuild TensorFlow with the appropriate compiler flags.\n",
      "2021-07-08 18:33:58.685000: I tensorflow/core/platform/profile_utils/cpu_utils.cc:104] CPU Frequency: 2400000000 Hz\n",
      "2021-07-08 18:33:58.685349: I tensorflow/compiler/xla/service/service.cc:168] XLA service 0x50240e0 initialized for platform Host (this does not guarantee that XLA will be used). Devices:\n",
      "2021-07-08 18:33:58.685371: I tensorflow/compiler/xla/service/service.cc:176]   StreamExecutor device (0): Host, Default Version\n"
     ]
    },
    {
     "name": "stdout",
     "output_type": "stream",
     "text": [
      "1 / 3\n"
     ]
    },
    {
     "data": {
      "text/plain": [
       "array([[[[0.32677165],\n",
       "         [0.33245844],\n",
       "         [0.3368329 ],\n",
       "         ...,\n",
       "         [0.        ],\n",
       "         [0.        ],\n",
       "         [0.        ]],\n",
       "\n",
       "        [[0.32764654],\n",
       "         [0.33070866],\n",
       "         [0.33289589],\n",
       "         ...,\n",
       "         [0.        ],\n",
       "         [0.        ],\n",
       "         [0.        ]],\n",
       "\n",
       "        [[0.32939633],\n",
       "         [0.32895888],\n",
       "         [0.33027122],\n",
       "         ...,\n",
       "         [0.        ],\n",
       "         [0.        ],\n",
       "         [0.        ]],\n",
       "\n",
       "        ...,\n",
       "\n",
       "        [[0.31102362],\n",
       "         [0.30446194],\n",
       "         [0.30358705],\n",
       "         ...,\n",
       "         [0.        ],\n",
       "         [0.        ],\n",
       "         [0.        ]],\n",
       "\n",
       "        [[0.30577428],\n",
       "         [0.29790026],\n",
       "         [0.29483815],\n",
       "         ...,\n",
       "         [0.        ],\n",
       "         [0.        ],\n",
       "         [0.        ]],\n",
       "\n",
       "        [[0.30183727],\n",
       "         [0.29352581],\n",
       "         [0.28915136],\n",
       "         ...,\n",
       "         [0.        ],\n",
       "         [0.        ],\n",
       "         [0.        ]]]])"
      ]
     },
     "execution_count": 1,
     "metadata": {},
     "output_type": "execute_result"
    }
   ],
   "source": [
    "#!/usr/bin/env python\n",
    "# coding: utf-8\n",
    "\n",
    "# In[1]:\n",
    "\n",
    "\n",
    "import os\n",
    "import nibabel as nib\n",
    "import numpy as np \n",
    "# import pandas as pd\n",
    "# import matplotlib.pyplot as plt\n",
    "import tensorflow as tf\n",
    "from tensorflow import keras\n",
    "from nibabel.testing import data_path\n",
    "# from skimage import feature\n",
    "from scipy import ndimage\n",
    "import glob\n",
    "import cv2\n",
    "\n",
    "CUDA_VISIBLE_DEVICES=0\n",
    "\n",
    "def normimg(input_image):\n",
    "    input_image = np.around(input_image)\n",
    "    input_image = input_image / 2286.0\n",
    "    return input_image\n",
    "\n",
    "# rotation de l'image a fin d'avoir plus d'images ( data ogmentation )\n",
    "def rot_aug(input_image):\n",
    "    input_image = ndimage.rotate(input_image, -5, reshape=False)\n",
    "    return input_image\n",
    "\n",
    "def flip_aug(input_image):\n",
    "    input_image = np.flipud(input_image)\n",
    "    return input_image\n",
    "\n",
    "def shift_aug(input_image):\n",
    "    input_image = ndimage.shift(input_image[:, :, 0], (3, -20))\n",
    "    input_image = np.expand_dims(input_image, axis=-1)\n",
    "    return input_image\n",
    "\n",
    "def load_data(data_path):\n",
    "  data = sorted(glob.glob(data_path))\n",
    "  total=len(data)\n",
    "  imag = []\n",
    "  masks = []\n",
    "  for count, file in enumerate(data,1):\n",
    "\n",
    "    image = nib.load(file).get_fdata()[:,:,:,0]\n",
    "    imag.append(image)  \n",
    "\n",
    "    print(\"{} / {}\".format(count,total))\n",
    "  return np.array(imag)\n",
    "\n",
    "\n",
    "\n",
    "# path to image input\n",
    "DATA_PATH ='../Inputs/Nifti_images/CT_*.nii.gz'\n",
    "\n",
    "IMAGES = load_data(DATA_PATH)\n",
    "print('dimensions: ',IMAGES.shape,' ; ','Type des images: ', type(IMAGES))\n",
    "# print('dimensions: ',IMAGES.shape,' ; ','Type des images: ', type(IMAGES),' ; ', 'coder sur: ', IMAGES[1].dtype)\n",
    "\n",
    "# path to model\n",
    "# new_model = tf.keras.models.load_model('/src/Skin_Segmentation/Weights/model_for_medic.h5')\n",
    "new_model = tf.keras.models.load_model('../Weights/model_for_medic.h5')\n",
    "\n",
    "# Save Predictions\n",
    "def predict_data(data_path):\n",
    "  data = sorted(glob.glob(data_path))\n",
    "  total=len(data)\n",
    "\n",
    "  for count, file in enumerate(data,1):\n",
    "    imags = []\n",
    "    image = nib.load(file)\n",
    "    im = normimg(image.get_fdata()[:,:,:,0])\n",
    "    imags.append(im)\n",
    "    test=  np.array(imags)\n",
    "    resultat = new_model.predict(test)\n",
    "    for i in resultat :\n",
    "      i = i[:,:] * 5\n",
    "      i = np.around(i)\n",
    "      a=i\n",
    "      i = i[:,:] * 51\n",
    "      nft_img = nib.Nifti1Image(a, image.affine)\n",
    "      nib.save(nft_img, os.path.join('../Outputs/Nifti_Outputs/Output_img%01.0d.nii.gz'%count ))\n",
    "      cv2.imwrite('../Outputs/JPEG_Outputs/Output_img%01.0d.jpeg'%count, i)\n",
    "      print(\"{} / {}\".format(count,total))\n",
    "      return np.array(imags)\n",
    "\n",
    "DATA_PATH ='../Inputs/Nifti_images/CT_*.nii.gz'\n",
    "\n",
    "predict_data(DATA_PATH)\n",
    "\n",
    "\n",
    "# # Nouvelle section"
   ]
  },
  {
   "cell_type": "markdown",
   "metadata": {
    "id": "vrfug3IY59f-"
   },
   "source": [
    "# Nouvelle section"
   ]
  }
 ],
 "metadata": {
  "colab": {
   "collapsed_sections": [],
   "name": "pfe.ipynb",
   "provenance": [],
   "toc_visible": true
  },
  "kernelspec": {
   "display_name": "Python 3",
   "name": "python3"
  },
  "language_info": {
   "codemirror_mode": {
    "name": "ipython",
    "version": 3
   },
   "file_extension": ".py",
   "mimetype": "text/x-python",
   "name": "python",
   "nbconvert_exporter": "python",
   "pygments_lexer": "ipython3",
   "version": "3.8.10"
  }
 },
 "nbformat": 4,
 "nbformat_minor": 0
}
